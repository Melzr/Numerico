{
  "nbformat": 4,
  "nbformat_minor": 0,
  "metadata": {
    "colab": {
      "name": "TP1.ipynb",
      "provenance": [],
      "collapsed_sections": [
        "vELFnrk299wC",
        "vr03vdCaqOii",
        "diVnc9O8xu8g",
        "6VpNd8mFy9Ld",
        "DcMiuIFR_yum",
        "1X1gje4nLuPD",
        "bRkyT7S5BoOA",
        "yaMEwlBnFFWw",
        "Xu6RDmZyFmkm",
        "D3exrRwjF3Rl",
        "bc9twSkZ-fqY",
        "rtIOq5zRYJeL",
        "JlyJ_L3NYbGL"
      ]
    },
    "kernelspec": {
      "name": "python3",
      "display_name": "Python 3"
    },
    "language_info": {
      "name": "python"
    }
  },
  "cells": [
    {
      "cell_type": "markdown",
      "metadata": {
        "id": "vELFnrk299wC"
      },
      "source": [
        "# TRABAJO PRÁCTICO ANÁLISIS NUMÉRICO I\n"
      ]
    },
    {
      "cell_type": "markdown",
      "metadata": {
        "id": "vr03vdCaqOii"
      },
      "source": [
        "##1. Métodos para seres queridos"
      ]
    },
    {
      "cell_type": "markdown",
      "metadata": {
        "id": "iAMB1GEmqV9B"
      },
      "source": [
        "En el marco de la época de la pandemia poder ayudar a los seres queridos es lo más importante que podemos hacer."
      ]
    },
    {
      "cell_type": "markdown",
      "metadata": {
        "id": "xcqtfXdAqevw"
      },
      "source": [
        "####(a) Buscar la forma de implementar un método visto en clase para ayudar o apoyar a un ser querido. De no ser posible dar un ejemplo de un uso de los métodos vistos en clase para el área en que se desarrollen profesionalmente."
      ]
    },
    {
      "cell_type": "markdown",
      "metadata": {
        "id": "_mKAUSOkquXJ"
      },
      "source": [
        "####(b) Comentar la experiencia."
      ]
    },
    {
      "cell_type": "markdown",
      "metadata": {
        "id": "diVnc9O8xu8g"
      },
      "source": [
        "## 2. Hallar $\\pi$ por dos caminos\n",
        "\n"
      ]
    },
    {
      "cell_type": "code",
      "metadata": {
        "id": "_0668Dfyervw"
      },
      "source": [
        "import numpy as np\n",
        "import matplotlib.pyplot as plt\n",
        "import math"
      ],
      "execution_count": null,
      "outputs": []
    },
    {
      "cell_type": "markdown",
      "metadata": {
        "id": "6VpNd8mFy9Ld"
      },
      "source": [
        "####(a) Programar un algoritmo para aproximar $\\pi$ utilizando la funcion $\\sin{x}$ con el metodo de Newton-Raphson, en funcion de $x$, que realice iteraciones hasta alcanzar el limite de la herramienta utilizada."
      ]
    },
    {
      "cell_type": "code",
      "metadata": {
        "id": "D_C7MBIAw7ct"
      },
      "source": [
        "#recibe una semilla, la funcion y su derivada\n",
        "def newton_raphson(x0, f, df):\n",
        "  \n",
        "  xn = (x0 - f(x0)/df(x0))\n",
        "  xa = x0\n",
        "  error = abs(xn - xa)\n",
        "\n",
        "  #error es 0 cuando se alcanza el limite de la representacion en python\n",
        "  while (error > 0):\n",
        "    print(xn) \n",
        "    xa = xn\n",
        "    xn = (xa - f(xa)/df(xa))\n",
        "    error = abs(xn - xa)\n",
        "\n",
        "  return xn"
      ],
      "execution_count": null,
      "outputs": []
    },
    {
      "cell_type": "code",
      "metadata": {
        "colab": {
          "base_uri": "https://localhost:8080/"
        },
        "id": "guhSlhZ_MHs_",
        "outputId": "b2acd782-e3b7-4706-9337-0cb5e98973a5"
      },
      "source": [
        "def F(x):\n",
        "  return math.sin(x)\n",
        "\n",
        "def dF(x):\n",
        "  return math.cos(x)\n",
        "\n",
        "print(newton_raphson(3, F, dF))"
      ],
      "execution_count": null,
      "outputs": [
        {
          "output_type": "stream",
          "text": [
            "3.142546543074278\n",
            "3.141592653300477\n",
            "3.141592653589793\n",
            "3.141592653589793\n"
          ],
          "name": "stdout"
        }
      ]
    },
    {
      "cell_type": "markdown",
      "metadata": {
        "id": "DcMiuIFR_yum"
      },
      "source": [
        "####(b) Programar un algoritmo para aproximar $\\pi$ utilizando la serie de Leibniz, en funcion de $n$."
      ]
    },
    {
      "cell_type": "code",
      "metadata": {
        "id": "6s2t2S_nCa4Y"
      },
      "source": [
        "def leibniz(n):\n",
        "  suma = 0\n",
        "  for i in range(0, n):\n",
        "    suma += ((-1)**i)/(2*i + 1)\n",
        "\n",
        "  return suma*4"
      ],
      "execution_count": null,
      "outputs": []
    },
    {
      "cell_type": "markdown",
      "metadata": {
        "id": "1X1gje4nLuPD"
      },
      "source": [
        "####(c) Ejecutar los programas solicitados en a y b utilizando representacion de punto flotante de 32 bits y comparar las respuestas obtenidas con n = 10, n = 100, n = 1000, n = 10000 y n = 100000."
      ]
    },
    {
      "cell_type": "code",
      "metadata": {
        "id": "ShWLawjoL5UM",
        "colab": {
          "base_uri": "https://localhost:8080/"
        },
        "outputId": "e02a0721-f2bd-4a86-c339-93e82f535f11"
      },
      "source": [
        "def leibniz32(n):\n",
        "  suma = 0\n",
        "  for i in range(0, n):\n",
        "    suma += np.float32(((-1)**i)/(2*i + 1))\n",
        "\n",
        "  return  np.float32(suma*4)\n",
        "\n",
        "print(leibniz32(10))\n",
        "print(leibniz32(100))\n",
        "print(leibniz32(1000))\n",
        "print(leibniz32(10000))\n",
        "print(leibniz32(100000))\n"
      ],
      "execution_count": null,
      "outputs": [
        {
          "output_type": "stream",
          "text": [
            "3.0418396\n",
            "3.1315928\n",
            "3.1405926\n",
            "3.1414926\n",
            "3.1415825\n"
          ],
          "name": "stdout"
        }
      ]
    },
    {
      "cell_type": "code",
      "metadata": {
        "colab": {
          "base_uri": "https://localhost:8080/"
        },
        "id": "p2WGaRoPNy5O",
        "outputId": "10a2a9de-8988-4b46-c4dc-c0debdc9c1c2"
      },
      "source": [
        "#recibe una semilla, la funcion y su derivada\n",
        "def newton_raphson32(x0, f, df):\n",
        "  \n",
        "  xn = np.float32(x0 - f(x0)/df(x0))\n",
        "  xa = x0\n",
        "  error = abs(xn - xa)\n",
        "\n",
        "  #error es 0 cuando se alcanza el limite de la representacion en python\n",
        "  while (error > 0): \n",
        "    xa = xn\n",
        "    xn = np.float32(xa - f(xa)/df(xa))\n",
        "    error = abs(xn - xa)\n",
        "\n",
        "  return np.float32(xn)\n",
        "\n",
        "print(newton_raphson32(3, F, dF))"
      ],
      "execution_count": null,
      "outputs": [
        {
          "output_type": "stream",
          "text": [
            "3.1415927\n"
          ],
          "name": "stdout"
        }
      ]
    },
    {
      "cell_type": "markdown",
      "metadata": {
        "id": "bRkyT7S5BoOA"
      },
      "source": [
        "####(d) Ejecutar los programas solicitados en a y b utilizando representacion de punto flotante de $64$ bits y comparar las respuestas obtenidas con $n = 10$, $n = 100$, $n = 1000$, $n = 10000$ y $n = 100000$."
      ]
    },
    {
      "cell_type": "code",
      "metadata": {
        "colab": {
          "base_uri": "https://localhost:8080/"
        },
        "id": "UBgLl8D6Dw_F",
        "outputId": "cb1b1a1e-5c66-45b6-aad9-37b82da4a9d9"
      },
      "source": [
        "print(leibniz(10))\n",
        "print(leibniz(100))\n",
        "print(leibniz(1000))\n",
        "print(leibniz(10000))\n",
        "print(leibniz(100000))\n"
      ],
      "execution_count": null,
      "outputs": [
        {
          "output_type": "stream",
          "text": [
            "3.0418396189294032\n",
            "3.1315929035585537\n",
            "3.140592653839794\n",
            "3.1414926535900345\n",
            "3.1415826535897198\n"
          ],
          "name": "stdout"
        }
      ]
    },
    {
      "cell_type": "markdown",
      "metadata": {
        "id": "yaMEwlBnFFWw"
      },
      "source": [
        "####(e) Ejecutar los programas solicitados en a y b con una calculadora (aclarar marca y modelo) y comparar las respuestas obtenidas con $n = 10$, $n = 100$, $n = 1000$, $n = 10000$ y $n = 100000$ (en caso de no alcanzar la memoria de la calculadora utilizar el maximo n posible)."
      ]
    },
    {
      "cell_type": "markdown",
      "metadata": {
        "id": "_Q_bWfesLNmS"
      },
      "source": [
        "Modelo `casio fx-570LA X`\n",
        "\n",
        "Leibniz:\n",
        "\n",
        "  * con $n=10$:  $3,232315809$\n",
        "\n",
        "  * con $n=100$:  $3,151493401$\n",
        "\n",
        "  * con $n=1000$:  $3,142591654$\n",
        "\n",
        "  * con $n=10000$:  $3,141692644$  \n",
        "  * con $n=100000: 3,141602653$"
      ]
    },
    {
      "cell_type": "markdown",
      "metadata": {
        "id": "Xu6RDmZyFmkm"
      },
      "source": [
        "####(f) Representar las dos respuestas finales obtenidas (para n= 100000 y el ḿetodo de NewtonRaphson) en c, d y e de manera de expresarlo como $\\pi= \\bar{\\pi} + ∆\\pi $ "
      ]
    },
    {
      "cell_type": "markdown",
      "metadata": {
        "id": "28S2fnVeID9M"
      },
      "source": [
        "Con el metodo Newton-Raphson: $\\pi= 3,141592653589793 \\pm 0,000000000000001$\n",
        "\n",
        "Con la serie de Leibniz: $\\pi= 3,14158 \\pm 0,00001$\n",
        "\n",
        "Con la calculadora: $\\pi= 3,1416 \\pm 0,0001$"
      ]
    },
    {
      "cell_type": "markdown",
      "metadata": {
        "id": "D3exrRwjF3Rl"
      },
      "source": [
        "####(g)  Podemos afirmar qué para la computadora el número π es una constante?\n"
      ]
    },
    {
      "cell_type": "markdown",
      "metadata": {
        "id": "2u_YqSw1Q2Wh"
      },
      "source": [
        "No es una constante porque depende de la representación que se tome\n"
      ]
    },
    {
      "cell_type": "markdown",
      "metadata": {
        "id": "bc9twSkZ-fqY"
      },
      "source": [
        "## 3. Búsqueda de raíces\n"
      ]
    },
    {
      "cell_type": "markdown",
      "metadata": {
        "id": "pYm7lNDx_UdC"
      },
      "source": [
        "Para las siguientes funciones continuas y con raíz unica en el intervalo $[0,2]$:\n",
        "\n",
        "$f_1(x) =x^2−2$\n",
        "\n",
        "$f_2(x) =x^5−6.6x^4+ 5.12x^3+ 21.312x^**2−38**.016x+ 17.28$\n",
        "\n",
        "$f_3(x) = (x−1.5)e^{-4(x−1.5)^2}$"
      ]
    },
    {
      "cell_type": "code",
      "metadata": {
        "id": "9Qb--ftYXoWy"
      },
      "source": [
        "import numpy as np\n",
        "import matplotlib.pyplot as plt\n",
        "import math\n",
        "\n",
        "x = np.linspace(0, 2, 100)\n",
        "f1 = (x**2 - 2)\n",
        "f2 = (x**5 - 6.6*x**4 + 5.12*x**3 - 38.016*x + 17.28)\n",
        "f3 = ((x-1.5)*np.exp(-4*((x-1.5)**2)) )"
      ],
      "execution_count": null,
      "outputs": []
    },
    {
      "cell_type": "markdown",
      "metadata": {
        "id": "rtIOq5zRYJeL"
      },
      "source": [
        "####(a) Graficar las funciones en el intervalo de interes"
      ]
    },
    {
      "cell_type": "code",
      "metadata": {
        "colab": {
          "base_uri": "https://localhost:8080/",
          "height": 336
        },
        "id": "eIf7rVRyUj6b",
        "outputId": "08661736-94f6-4c25-8d2f-f7b49b662e5b"
      },
      "source": [
        "fig = plt.figure(figsize = (10, 5))\n",
        "plt.plot(x, f1)\n",
        "plt.title('Gráfico de función 1')\n",
        "plt.grid()\n",
        "\n",
        "plt.show()"
      ],
      "execution_count": null,
      "outputs": [
        {
          "output_type": "display_data",
          "data": {
            "image/png": "[encoded data removed]",
            "text/plain": [
              "<Figure size 720x360 with 1 Axes>"
            ]
          },
          "metadata": {
            "tags": [],
            "needs_background": "light"
          }
        }
      ]
    },
    {
      "cell_type": "code",
      "metadata": {
        "colab": {
          "base_uri": "https://localhost:8080/",
          "height": 336
        },
        "id": "gyjfBfXfTzwT",
        "outputId": "f45b86e6-c94c-4d6a-d48f-da77107fb08a"
      },
      "source": [
        "fig = plt.figure(figsize = (10, 5))\n",
        "plt.plot(x, f2)\n",
        "plt.title('Gráfico de función 2')\n",
        "plt.grid()\n",
        "\n",
        "plt.show()"
      ],
      "execution_count": null,
      "outputs": [
        {
          "output_type": "display_data",
          "data": {
            "image/png": "[encoded data removed]",
            "text/plain": [
              "<Figure size 720x360 with 1 Axes>"
            ]
          },
          "metadata": {
            "tags": [],
            "needs_background": "light"
          }
        }
      ]
    },
    {
      "cell_type": "code",
      "metadata": {
        "colab": {
          "base_uri": "https://localhost:8080/",
          "height": 336
        },
        "id": "3U_5b21TWbWl",
        "outputId": "a302eac1-ca03-45b5-9273-9c9a992f8ceb"
      },
      "source": [
        "fig = plt.figure(figsize = (10, 5))\n",
        "plt.plot(x, f3)\n",
        "plt.title('Gráfico de función 3')\n",
        "plt.grid()\n",
        "\n",
        "plt.show()"
      ],
      "execution_count": null,
      "outputs": [
        {
          "output_type": "display_data",
          "data": {
            "image/png": "[encoded data removed]",
            "text/plain": [
              "<Figure size 720x360 with 1 Axes>"
            ]
          },
          "metadata": {
            "tags": [],
            "needs_background": "light"
          }
        }
      ]
    },
    {
      "cell_type": "markdown",
      "metadata": {
        "id": "JlyJ_L3NYbGL"
      },
      "source": [
        "####(b) Halle para cada una de ellas la raíz en el intervalo indicado mediante los métodos vistos en clase (Bisección, Newton-Raphson, Newton-Raphson modificado, Secante). Use para todos los métodos como criterio de parada las siguientes cotas de error: $1.10^{-5}$; $1.10^{-13}$, para Newton-Raphson use semilla $x_0 = 1,0$, para secante use como semillas los extremos del intervalo."
      ]
    },
    {
      "cell_type": "code",
      "metadata": {
        "id": "aaC6DztZkcj4"
      },
      "source": [
        "def f1(x):\n",
        "  return (x**2 - 2)\n",
        "\n",
        "def df1(x):\n",
        "  return(2*x)\n",
        "\n",
        "def f2(x):\n",
        "  return (x**5 - 6.6*x**4 + 5.12*x**3 - 38.016*x + 17.28)\n",
        "\n",
        "def df2(x):\n",
        "  return (5*(x**4) - 26.4*(x**3) + 15.36*(x**2) + 42.624*x - 38.016)\n",
        "\n",
        "def f3(x):\n",
        "  return ((x-1.5)*np.exp(-4*((x-1.5)**2)) )\n",
        "\n",
        "cota_1 = 1*(10**-5)\n",
        "cota_2 = 1*(10**-13)\n",
        "\n",
        "semilla = 1"
      ],
      "execution_count": null,
      "outputs": []
    },
    {
      "cell_type": "code",
      "metadata": {
        "id": "LUyXUd6-YhXm"
      },
      "source": [
        "def biseccion_aux(px, a, b, f, cota_error):\n",
        "  py = (a+b)/2\n",
        "\n",
        "  if( abs(px - py) < cota_error ):\n",
        "    return py\n",
        "  \n",
        "  if ( (f(py) > 0 and f(a) < 0) or (f(py) < 0 and f(a) > 0) ):\n",
        "      b = py\n",
        "  elif ( (f(py) > 0 and f(a) > 0) or (f(py) < 0 and f(b) > 0) ):\n",
        "      a = py\n",
        "\n",
        "  return biseccion_aux(py, a, b, f, cota_error)\n",
        "\n",
        "def biseccion(a, b, f, cota_error):\n",
        "\n",
        "  if (f(a)*f(b) > 0):\n",
        "    return None\n",
        "\n",
        "  p0 = (a + b)/2\n",
        "\n",
        "  if ( (f(p0) > 0 and f(a) < 0) or (f(p0) < 0 and f(a) > 0)):\n",
        "    b = p0\n",
        "  elif ( (f(p0) > 0 and f(b) > 0) or (f(p0) < 0 and f(b) > 0) ):\n",
        "    a = p0\n",
        "\n",
        "  return biseccion_aux(p0, a, b, f, cota_error)"
      ],
      "execution_count": null,
      "outputs": []
    },
    {
      "cell_type": "code",
      "metadata": {
        "id": "5afcH4RwYsFI"
      },
      "source": [
        "#NR modificado"
      ],
      "execution_count": null,
      "outputs": []
    },
    {
      "cell_type": "code",
      "metadata": {
        "id": "CAgwiSIsY0J-"
      },
      "source": [
        "#secante"
      ],
      "execution_count": null,
      "outputs": []
    },
    {
      "cell_type": "code",
      "metadata": {
        "colab": {
          "base_uri": "https://localhost:8080/"
        },
        "id": "5rHTWyTVlPDM",
        "outputId": "eb977a30-b75d-4720-92f6-f6e56458ba9b"
      },
      "source": [
        "print(biseccion(0, 2, f1, cota_1))\n",
        "print(biseccion(0, 2, f1, cota_2))\n",
        "#print(newton_raphson(semilla, f1, df1))\n",
        "\n",
        "print(biseccion(0, 2, f2, cota_1))\n",
        "print(biseccion(0, 2, f2, cota_2))\n",
        "#print(newton_raphson(semilla, f2, df2))\n",
        "\n",
        "print(biseccion(0, 2, f3, cota_1))\n",
        "print(biseccion(0, 2, f3, cota_2))\n",
        "#print(newton_raphson(semilla, f3, df3))\n"
      ],
      "execution_count": null,
      "outputs": [
        {
          "output_type": "stream",
          "text": [
            "1.4142074584960938\n",
            "1.4142135623730496\n",
            "0.46042633056640625\n",
            "0.4604334075571046\n",
            "1.5\n",
            "1.5\n"
          ],
          "name": "stdout"
        }
      ]
    },
    {
      "cell_type": "markdown",
      "metadata": {
        "id": "C4iiroenq_uV"
      },
      "source": [
        "####(c) Halle la raíz mediante la función de búsqueda de raíces de un lenguaje o paquete orientado a cálculo numérico (e.g. `Python+SciPy: scipy.optimize.brentq`)."
      ]
    },
    {
      "cell_type": "markdown",
      "metadata": {
        "id": "ljsL_UkzrE7L"
      },
      "source": [
        "####(d) Compare los resultados obtenidos para los distintos métodos y cotas, grafique el orden de convergencia P y la constante asisntotica λ para todos los casos. Discuta ventajas y desventajas. ¿Son las que esperaba en base a la teoría?\n"
      ]
    }
  ]
}