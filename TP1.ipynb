{
  "nbformat": 4,
  "nbformat_minor": 0,
  "metadata": {
    "colab": {
      "name": "TP1.ipynb",
      "provenance": [],
      "collapsed_sections": [],
      "include_colab_link": true
    },
    "kernelspec": {
      "name": "python3",
      "display_name": "Python 3"
    },
    "language_info": {
      "name": "python"
    }
  },
  "cells": [
    {
      "cell_type": "markdown",
      "metadata": {
        "id": "view-in-github",
        "colab_type": "text"
      },
      "source": [
        "<a href=\"https://colab.research.google.com/github/Melzr/Numerico/blob/main/TP1.ipynb\" target=\"_parent\"><img src=\"https://colab.research.google.com/assets/colab-badge.svg\" alt=\"Open In Colab\"/></a>"
      ]
    },
    {
      "cell_type": "markdown",
      "metadata": {
        "id": "diVnc9O8xu8g"
      },
      "source": [
        "2. Hallar $\\pi$ por dos caminos"
      ]
    },
    {
      "cell_type": "markdown",
      "metadata": {
        "id": "6VpNd8mFy9Ld"
      },
      "source": [
        "(a) Programar un algoritmo para aproximar $\\pi$ utilizando la funcion $\\sin{x}$ con el metodo de\n",
        "Newton-Raphson, en funcion de $x$, que realice iteraciones hasta alcanzar el limite de la herramienta utilizada."
      ]
    },
    {
      "cell_type": "code",
      "metadata": {
        "id": "D_C7MBIAw7ct",
        "colab": {
          "base_uri": "https://localhost:8080/"
        },
        "outputId": "477d3894-c826-4219-c9fe-4676f372db77"
      },
      "source": [
        "import numpy as np\n",
        "import matplotlib.pyplot as plt\n",
        "import math\n",
        "\n",
        "#x = np.linspace(0, 2*np.pi, 100)\n",
        "# F = np.sin(x)\n",
        "# dF = np.cos(x)\n",
        "\n",
        "def F(x):\n",
        "  return math.sin(x)\n",
        "\n",
        "def dF(x):\n",
        "  return math.cos(x)\n",
        "\n",
        "#recibe una semilla, la funcion y su derivada\n",
        "def newton_raphson(x0, f, df):\n",
        "  \n",
        "  xn = (x0 - f(x0)/df(x0))\n",
        "  xa = x0\n",
        "  error = abs(xn - xa)\n",
        "\n",
        "  #error es 0 cuando se alcanza el limite de la representacion en python\n",
        "  while (error > 0): \n",
        "    print(xn)\n",
        "    xa = xn\n",
        "    xn = (xa - f(xa)/df(xa))\n",
        "    error = abs(xn - xa)\n",
        "\n",
        "  return xn\n",
        "\n",
        "\n",
        "#plt.figure(1)\n",
        "#plt.plot(x, F)\n",
        "#plt.show()\n",
        "\n",
        "raiz = newton_raphson(3, F, dF)\n",
        "print(raiz)"
      ],
      "execution_count": null,
      "outputs": [
        {
          "output_type": "stream",
          "text": [
            "3.142546543074278\n",
            "3.141592653300477\n",
            "3.141592653589793\n",
            "3.141592653589793\n"
          ],
          "name": "stdout"
        }
      ]
    },
    {
      "cell_type": "markdown",
      "metadata": {
        "id": "DcMiuIFR_yum"
      },
      "source": [
        "(b) Programar un algoritmo para aproximar $\\pi$ utilizando la serie de Leibniz, en funcion de $n$."
      ]
    },
    {
      "cell_type": "code",
      "metadata": {
        "id": "6s2t2S_nCa4Y",
        "colab": {
          "base_uri": "https://localhost:8080/"
        },
        "outputId": "69797d96-00ab-4834-d96b-31e6e0da7b10"
      },
      "source": [
        "def leibniz(n):\n",
        "  suma = 0\n",
        "  for i in range(0, n):\n",
        "    suma += ((-1)**i)/(2*i + 1)\n",
        "\n",
        "  return suma*4"
      ],
      "execution_count": null,
      "outputs": [
        {
          "output_type": "execute_result",
          "data": {
            "text/plain": [
              "3.1415826535897198"
            ]
          },
          "metadata": {
            "tags": []
          },
          "execution_count": 22
        }
      ]
    },
    {
      "cell_type": "markdown",
      "metadata": {
        "id": "bRkyT7S5BoOA"
      },
      "source": [
        "(d) Ejecutar los programas solicitados en a y b utilizando representacion de punto \n",
        "otante de 64 bits y comparar las respuestas obtenidas con $n = 10$, $n = 100$, $n = 1000$, $n = 10000$ y $n = 100000$."
      ]
    },
    {
      "cell_type": "code",
      "metadata": {
        "colab": {
          "base_uri": "https://localhost:8080/"
        },
        "id": "UBgLl8D6Dw_F",
        "outputId": "04f7311e-bad3-4c87-c155-d621cb432384"
      },
      "source": [
        "print(leibniz(10))\n",
        "print(leibniz(100))\n",
        "print(leibniz(1000))\n",
        "print(leibniz(10000))\n",
        "print(leibniz(100000))\n"
      ],
      "execution_count": null,
      "outputs": [
        {
          "output_type": "stream",
          "text": [
            "3.0418396189294032\n",
            "3.1315929035585537\n",
            "3.140592653839794\n",
            "3.1414926535900345\n",
            "3.1415826535897198\n"
          ],
          "name": "stdout"
        }
      ]
    },
    {
      "cell_type": "markdown",
      "metadata": {
        "id": "yaMEwlBnFFWw"
      },
      "source": [
        "(e) Ejecutar los programas solicitados en a y b con una calculadora (aclarar marca y modelo) y\n",
        "comparar las respuestas obtenidas con $n = 10$, $n = 100$, $n = 1000$, $n = 10000$ y $n = 100000$\n",
        "(en caso de no alcanzar la memoria de la calculadora utilizar el maximo n posible)."
      ]
    },
    {
      "cell_type": "markdown",
      "metadata": {
        "id": "_Q_bWfesLNmS"
      },
      "source": [
        "Modelo `casio fx-570LA X`\n",
        "\n",
        "Leibniz:\n",
        "\n",
        "  * con $n=10$:  $3,232315809$\n",
        "\n",
        "  * con $n=100$:  $3,151493401$\n",
        "\n",
        "  * con $n=1000$:  $3,142591654$\n",
        "\n",
        "  * con $n=10000$:  $3,141692644$  "
      ]
    },
    {
      "cell_type": "markdown",
      "metadata": {
        "id": "Xu6RDmZyFmkm"
      },
      "source": [
        "(f) Representar las dos respuestas finales obtenidas (para n= 100000 y el ḿetodo de NewtonRaphson) en c, d y e de manera de expresarlo como $\\pi= \\bar{\\pi} + ∆\\pi $ "
      ]
    },
    {
      "cell_type": "markdown",
      "metadata": {
        "id": "28S2fnVeID9M"
      },
      "source": [
        "Con el metodo Newton-Raphson: $\\pi= 3.141592653589793 \\pm 0.000000000000001$\n",
        "\n",
        "Con la serie de Leibniz: $\\pi= 3.1415826535897198 \\pm 0.0000000000000001$"
      ]
    },
    {
      "cell_type": "markdown",
      "metadata": {
        "id": "D3exrRwjF3Rl"
      },
      "source": [
        "\n",
        "(g)  Podemos afirmar qué para la computadora el número π es una constante?\n"
      ]
    },
    {
      "cell_type": "code",
      "metadata": {
        "colab": {
          "base_uri": "https://localhost:8080/"
        },
        "id": "5Oywx_YZGJGI",
        "outputId": "1858b0c5-d1df-4d7e-a635-e1f5f3fa2c88"
      },
      "source": [
        "np.float32(leibniz(10))"
      ],
      "execution_count": null,
      "outputs": [
        {
          "output_type": "execute_result",
          "data": {
            "text/plain": [
              "3.0418396"
            ]
          },
          "metadata": {
            "tags": []
          },
          "execution_count": 22
        }
      ]
    }
  ]
}